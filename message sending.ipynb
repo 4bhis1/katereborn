{
 "cells": [
  {
   "cell_type": "code",
   "execution_count": 1,
   "metadata": {},
   "outputs": [
    {
     "name": "stdout",
     "output_type": "stream",
     "text": [
      "Collecting twilio\n",
      "  Downloading https://files.pythonhosted.org/packages/56/e6/1fbf928c80209e28d1cd661c938b312b3674921f1cfd1eaaf4e9049e6e67/twilio-7.5.0-py2.py3-none-any.whl (1.3MB)\n",
      "Requirement already satisfied: pytz in c:\\users\\absk8\\anaconda3\\lib\\site-packages (from twilio) (2019.3)\n",
      "Collecting PyJWT<3.0.0,>=2.0.0 (from twilio)\n",
      "  Downloading https://files.pythonhosted.org/packages/2a/4d/67cc66a0c49003dc216fc73db2d05a3b80c7193167fd113da1f2c678ac2a/PyJWT-2.3.0-py3-none-any.whl\n",
      "Requirement already satisfied: requests>=2.0.0 in c:\\users\\absk8\\anaconda3\\lib\\site-packages (from twilio) (2.22.0)\n",
      "Requirement already satisfied: idna<2.9,>=2.5 in c:\\users\\absk8\\anaconda3\\lib\\site-packages (from requests>=2.0.0->twilio) (2.8)\n",
      "Requirement already satisfied: urllib3!=1.25.0,!=1.25.1,<1.26,>=1.21.1 in c:\\users\\absk8\\anaconda3\\lib\\site-packages (from requests>=2.0.0->twilio) (1.24.2)\n",
      "Requirement already satisfied: chardet<3.1.0,>=3.0.2 in c:\\users\\absk8\\anaconda3\\lib\\site-packages (from requests>=2.0.0->twilio) (3.0.4)\n",
      "Requirement already satisfied: certifi>=2017.4.17 in c:\\users\\absk8\\anaconda3\\lib\\site-packages (from requests>=2.0.0->twilio) (2019.9.11)\n",
      "Installing collected packages: PyJWT, twilio\n",
      "Successfully installed PyJWT-2.3.0 twilio-7.5.0\n"
     ]
    }
   ],
   "source": [
    "!pip install twilio"
   ]
  },
  {
   "cell_type": "code",
   "execution_count": null,
   "metadata": {},
   "outputs": [],
   "source": []
  }
 ],
 "metadata": {
  "kernelspec": {
   "display_name": "Python 3",
   "language": "python",
   "name": "python3"
  },
  "language_info": {
   "codemirror_mode": {
    "name": "ipython",
    "version": 3
   },
   "file_extension": ".py",
   "mimetype": "text/x-python",
   "name": "python",
   "nbconvert_exporter": "python",
   "pygments_lexer": "ipython3",
   "version": "3.7.4"
  }
 },
 "nbformat": 4,
 "nbformat_minor": 2
}
